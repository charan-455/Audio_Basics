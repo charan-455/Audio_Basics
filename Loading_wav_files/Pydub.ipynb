{
 "cells": [
  {
   "cell_type": "code",
   "execution_count": 1,
   "metadata": {},
   "outputs": [],
   "source": [
    "# %pip install pydub"
   ]
  },
  {
   "cell_type": "markdown",
   "metadata": {},
   "source": [
    "# Make sure you have ffmpeg or libav installed as well."
   ]
  },
  {
   "cell_type": "code",
   "execution_count": 2,
   "metadata": {},
   "outputs": [
    {
     "name": "stdout",
     "output_type": "stream",
     "text": [
      "Audio data dtype <class 'numpy.ndarray'>\n",
      "Audio data shape (156335,)\n",
      "Sample Rate: 44100 Hz\n"
     ]
    }
   ],
   "source": [
    "from pydub import AudioSegment\n",
    "import numpy as np\n",
    "\n",
    "def load_wav_file_pydub(filename):\n",
    "    audio = AudioSegment.from_wav(filename)\n",
    "    audio_data = np.array(audio.get_array_of_samples())\n",
    "    sample_rate = audio.frame_rate\n",
    "    \n",
    "    print(\"Audio data dtype\", type(audio_data))\n",
    "    print(\"Audio data shape\", audio_data.shape)\n",
    "    print(f\"Sample Rate: {sample_rate} Hz\")\n",
    "    \n",
    "    return sample_rate, audio_data\n",
    "\n",
    "# Replace 'your_file.wav' with the path to your WAV file\n",
    "filename = r'utils\\example.wav'\n",
    "sample_rate, audio_data = load_wav_file_pydub(filename)"
   ]
  },
  {
   "cell_type": "code",
   "execution_count": null,
   "metadata": {},
   "outputs": [],
   "source": []
  }
 ],
 "metadata": {
  "kernelspec": {
   "display_name": "env_inno",
   "language": "python",
   "name": "python3"
  },
  "language_info": {
   "codemirror_mode": {
    "name": "ipython",
    "version": 3
   },
   "file_extension": ".py",
   "mimetype": "text/x-python",
   "name": "python",
   "nbconvert_exporter": "python",
   "pygments_lexer": "ipython3",
   "version": "3.10.15"
  }
 },
 "nbformat": 4,
 "nbformat_minor": 2
}
