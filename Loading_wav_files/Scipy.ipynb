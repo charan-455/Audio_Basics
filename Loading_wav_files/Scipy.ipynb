{
 "cells": [
  {
   "cell_type": "code",
   "execution_count": 1,
   "metadata": {},
   "outputs": [],
   "source": [
    "# %pip install scipy"
   ]
  },
  {
   "cell_type": "code",
   "execution_count": 2,
   "metadata": {},
   "outputs": [
    {
     "name": "stdout",
     "output_type": "stream",
     "text": [
      "Sample Rate: 44100 Hz\n",
      "Data Shape: (156335,)\n",
      "Data Type: int16\n"
     ]
    }
   ],
   "source": [
    "from scipy.io import wavfile\n",
    "\n",
    "def load_wav_file(filename):\n",
    "    # Read the WAV file\n",
    "    sample_rate, data = wavfile.read(filename)\n",
    "    \n",
    "    # Display some information about the file\n",
    "    print(f\"Sample Rate: {sample_rate} Hz\")\n",
    "    print(f\"Data Shape: {data.shape}\")\n",
    "    print(f\"Data Type: {data.dtype}\")\n",
    "\n",
    "    return sample_rate, data\n",
    "\n",
    "\n",
    "# Replace 'your_file.wav' with the path to your WAV file\n",
    "file_path = r'utils\\example.wav'\n",
    "sample_rate, audio_data = load_wav_file(file_path)"
   ]
  },
  {
   "cell_type": "code",
   "execution_count": null,
   "metadata": {},
   "outputs": [],
   "source": []
  }
 ],
 "metadata": {
  "kernelspec": {
   "display_name": "env_inno",
   "language": "python",
   "name": "python3"
  },
  "language_info": {
   "codemirror_mode": {
    "name": "ipython",
    "version": 3
   },
   "file_extension": ".py",
   "mimetype": "text/x-python",
   "name": "python",
   "nbconvert_exporter": "python",
   "pygments_lexer": "ipython3",
   "version": "3.10.15"
  }
 },
 "nbformat": 4,
 "nbformat_minor": 2
}
