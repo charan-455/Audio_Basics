{
 "cells": [
  {
   "cell_type": "code",
   "execution_count": 1,
   "metadata": {},
   "outputs": [],
   "source": [
    "# %pip install wave\n",
    "# %pip install numpy"
   ]
  },
  {
   "cell_type": "code",
   "execution_count": 2,
   "metadata": {},
   "outputs": [
    {
     "name": "stdout",
     "output_type": "stream",
     "text": [
      "Audio data type: <class 'numpy.ndarray'>\n",
      "Audio data shape: 312670\n",
      "Sample Rate: 44100 Hz\n"
     ]
    }
   ],
   "source": [
    "import wave\n",
    "import numpy as np\n",
    "\n",
    "def load_wav_file_wave(filename):\n",
    "    with wave.open(filename, 'rb') as wav_file:\n",
    "        n_channels = wav_file.getnchannels()\n",
    "        sample_rate = wav_file.getframerate()\n",
    "        n_frames = wav_file.getnframes()\n",
    "        audio_data = wav_file.readframes(n_frames)\n",
    "        audio_array = np.frombuffer(audio_data, dtype=np.int16)\n",
    "        \n",
    "        print(f\"Audio data type: {type(audio_array)}\")\n",
    "        print(\"Audio data shape:\", len(audio_data))\n",
    "        print(f\"Sample Rate: {sample_rate} Hz\")\n",
    "        \n",
    "        \n",
    "    return sample_rate, audio_array\n",
    "\n",
    "filename = r'utils\\example.wav'\n",
    "sample_rate, audio_data = load_wav_file_wave(filename)"
   ]
  },
  {
   "cell_type": "code",
   "execution_count": null,
   "metadata": {},
   "outputs": [],
   "source": []
  }
 ],
 "metadata": {
  "kernelspec": {
   "display_name": "env_inno",
   "language": "python",
   "name": "python3"
  },
  "language_info": {
   "codemirror_mode": {
    "name": "ipython",
    "version": 3
   },
   "file_extension": ".py",
   "mimetype": "text/x-python",
   "name": "python",
   "nbconvert_exporter": "python",
   "pygments_lexer": "ipython3",
   "version": "3.10.15"
  }
 },
 "nbformat": 4,
 "nbformat_minor": 2
}
