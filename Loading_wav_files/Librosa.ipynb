{
 "cells": [
  {
   "cell_type": "code",
   "execution_count": 1,
   "metadata": {},
   "outputs": [],
   "source": [
    "# %pip install librosa"
   ]
  },
  {
   "cell_type": "code",
   "execution_count": 2,
   "metadata": {},
   "outputs": [
    {
     "name": "stdout",
     "output_type": "stream",
     "text": [
      "Audio data type: <class 'numpy.ndarray'>\n",
      "Audio data shape: (156335,)\n",
      "Sample rate: 44100\n"
     ]
    }
   ],
   "source": [
    "import librosa\n",
    "\n",
    "def load_wav_file(file_path):\n",
    "\n",
    "    # Load the WAV file\n",
    "    audio_data, sample_rate = librosa.load(file_path, sr=None,mono=True,offset=0.0,duration=None)\n",
    "    \n",
    "    # sr=None preserves the original sample rate\n",
    "    # sr --> default value  22050\n",
    "    # offset --> start from this second \n",
    "    # duration --> upto this second\n",
    "    \n",
    "    print(f\"Audio data type: {type(audio_data)}\")\n",
    "    print(f\"Audio data shape: {audio_data.shape}\")\n",
    "    print(f\"Sample rate: {sample_rate}\")  \n",
    "\n",
    "    return audio_data, sample_rate\n",
    "\n",
    "# Specify the path to your WAV file\n",
    "file_path = r'utils\\example.wav'\n",
    "\n",
    "audio_data, sample_rate = load_wav_file(file_path)"
   ]
  },
  {
   "cell_type": "code",
   "execution_count": null,
   "metadata": {},
   "outputs": [],
   "source": []
  }
 ],
 "metadata": {
  "kernelspec": {
   "display_name": "env_inno",
   "language": "python",
   "name": "python3"
  },
  "language_info": {
   "codemirror_mode": {
    "name": "ipython",
    "version": 3
   },
   "file_extension": ".py",
   "mimetype": "text/x-python",
   "name": "python",
   "nbconvert_exporter": "python",
   "pygments_lexer": "ipython3",
   "version": "3.10.15"
  }
 },
 "nbformat": 4,
 "nbformat_minor": 2
}
