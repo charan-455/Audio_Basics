{
 "cells": [
  {
   "cell_type": "code",
   "execution_count": 5,
   "metadata": {},
   "outputs": [],
   "source": [
    "# %pip install torchaudio"
   ]
  },
  {
   "cell_type": "code",
   "execution_count": 6,
   "metadata": {},
   "outputs": [
    {
     "name": "stdout",
     "output_type": "stream",
     "text": [
      "Audio data type: <class 'torch.Tensor'>\n",
      "Audio data Shape: torch.Size([1, 156335])\n",
      "Sample Rate: 44100 Hz\n"
     ]
    }
   ],
   "source": [
    "import torchaudio\n",
    "\n",
    "def load_wav_file_pt(filename):\n",
    "    # Load the WAV file\n",
    "    audio_data, sample_rate = torchaudio.load(filename)\n",
    "    \n",
    "    # Display some information about the audio\n",
    "    print(f\"Audio data type: {type(audio_data)}\")\n",
    "    print(f\"Audio data Shape: {audio_data.shape}\")\n",
    "    print(f\"Sample Rate: {sample_rate} Hz\")\n",
    "    \n",
    "\n",
    "    return sample_rate, audio_data\n",
    "\n",
    "\n",
    "# Replace 'your_file.wav' with the path to your WAV file\n",
    "file_path = r'utils\\example.wav'\n",
    "sample_rate, audio_data = load_wav_file_pt(file_path)\n",
    "\n"
   ]
  },
  {
   "cell_type": "code",
   "execution_count": null,
   "metadata": {},
   "outputs": [],
   "source": []
  }
 ],
 "metadata": {
  "kernelspec": {
   "display_name": "env_inno",
   "language": "python",
   "name": "python3"
  },
  "language_info": {
   "codemirror_mode": {
    "name": "ipython",
    "version": 3
   },
   "file_extension": ".py",
   "mimetype": "text/x-python",
   "name": "python",
   "nbconvert_exporter": "python",
   "pygments_lexer": "ipython3",
   "version": "3.10.15"
  }
 },
 "nbformat": 4,
 "nbformat_minor": 2
}
