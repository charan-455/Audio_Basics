{
 "cells": [
  {
   "cell_type": "code",
   "execution_count": null,
   "metadata": {},
   "outputs": [],
   "source": [
    "%pip install soundfile"
   ]
  },
  {
   "cell_type": "code",
   "execution_count": null,
   "metadata": {},
   "outputs": [],
   "source": [
    "import soundfile as sf\n",
    "\n",
    "def load_wav_file_soundfile(filename):\n",
    "    \n",
    "    audio_data, sample_rate = sf.read(filename)\n",
    "    \n",
    "    print(f\"Audio data type: {type(audio_data)}\")\n",
    "    print(\"Audio data shape:\", audio_data.shape)\n",
    "    print(f\"Sample Rate: {sample_rate} Hz\")\n",
    "    \n",
    "    \n",
    "    return sample_rate, audio_data\n",
    "\n",
    "filename = r'utils\\example.wav'\n",
    "sample_rate, audio_data = load_wav_file_soundfile(filename)\n",
    "\n"
   ]
  }
 ],
 "metadata": {
  "language_info": {
   "name": "python"
  }
 },
 "nbformat": 4,
 "nbformat_minor": 2
}
