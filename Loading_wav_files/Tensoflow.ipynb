{
 "cells": [
  {
   "cell_type": "code",
   "execution_count": 1,
   "metadata": {},
   "outputs": [],
   "source": [
    "# %pip install tensorflow"
   ]
  },
  {
   "cell_type": "code",
   "execution_count": 2,
   "metadata": {},
   "outputs": [
    {
     "name": "stdout",
     "output_type": "stream",
     "text": [
      "Audio data type: <class 'tensorflow.python.framework.ops.EagerTensor'>\n",
      "Audio Shape: (156335, 1)\n",
      "Sample Rate: 44100 Hz\n"
     ]
    }
   ],
   "source": [
    "import tensorflow as tf\n",
    "\n",
    "def load_wav_file_tf(filename):\n",
    "    # Load the WAV file\n",
    "    audio_data, sample_rate = tf.audio.decode_wav(tf.io.read_file(filename))\n",
    "    \n",
    "    # Display some information about the audio\n",
    "    print(f\"Audio data type: {type(audio_data)}\")\n",
    "    print(f\"Audio Shape: {audio_data.shape}\")\n",
    "    print(f\"Sample Rate: {sample_rate.numpy()} Hz\")\n",
    "    \n",
    "    \n",
    "    return sample_rate.numpy(), audio_data.numpy()\n",
    "\n",
    "\n",
    "# Replace 'your_file.wav' with the path to your WAV file\n",
    "file_path = r'utils\\example.wav'\n",
    "sample_rate, audio_data = load_wav_file_tf(file_path)\n"
   ]
  },
  {
   "cell_type": "code",
   "execution_count": null,
   "metadata": {},
   "outputs": [],
   "source": []
  }
 ],
 "metadata": {
  "kernelspec": {
   "display_name": "env_inno",
   "language": "python",
   "name": "python3"
  },
  "language_info": {
   "codemirror_mode": {
    "name": "ipython",
    "version": 3
   },
   "file_extension": ".py",
   "mimetype": "text/x-python",
   "name": "python",
   "nbconvert_exporter": "python",
   "pygments_lexer": "ipython3",
   "version": "3.10.15"
  }
 },
 "nbformat": 4,
 "nbformat_minor": 2
}
